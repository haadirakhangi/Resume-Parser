{
  "nbformat": 4,
  "nbformat_minor": 0,
  "metadata": {
    "colab": {
      "provenance": [],
      "authorship_tag": "ABX9TyM7pm+V+O9ZrNQLAHQiD0Ax",
      "include_colab_link": true
    },
    "kernelspec": {
      "name": "python3",
      "display_name": "Python 3"
    },
    "language_info": {
      "name": "python"
    }
  },
  "cells": [
    {
      "cell_type": "markdown",
      "metadata": {
        "id": "view-in-github",
        "colab_type": "text"
      },
      "source": [
        "<a href=\"https://colab.research.google.com/github/haadirakhangi/Resume-Parser/blob/main/Resume_parser.ipynb\" target=\"_parent\"><img src=\"https://colab.research.google.com/assets/colab-badge.svg\" alt=\"Open In Colab\"/></a>"
      ]
    },
    {
      "cell_type": "code",
      "source": [
        "from google.colab import drive\n",
        "import os\n",
        "drive.mount('/content/drive')"
      ],
      "metadata": {
        "colab": {
          "base_uri": "https://localhost:8080/"
        },
        "id": "Z6msPz2UO_s8",
        "outputId": "58de0ee5-f997-4e2f-e287-1db713a6aa28"
      },
      "execution_count": 16,
      "outputs": [
        {
          "output_type": "stream",
          "name": "stdout",
          "text": [
            "Mounted at /content/drive\n"
          ]
        }
      ]
    },
    {
      "cell_type": "markdown",
      "source": [
        "## Extracting text from document and pdf"
      ],
      "metadata": {
        "id": "Bfj0lv0tJyo-"
      }
    },
    {
      "cell_type": "code",
      "source": [
        "!pip install pypdf2\n",
        "!pip install docx2txt"
      ],
      "metadata": {
        "colab": {
          "base_uri": "https://localhost:8080/"
        },
        "id": "1pOgK9wTJ8g1",
        "outputId": "4d0068f9-d56a-407a-fe5e-0787c3caf7a3"
      },
      "execution_count": 1,
      "outputs": [
        {
          "output_type": "stream",
          "name": "stdout",
          "text": [
            "Collecting pypdf2\n",
            "  Downloading pypdf2-3.0.1-py3-none-any.whl (232 kB)\n",
            "\u001b[2K     \u001b[90m━━━━━━━━━━━━━━━━━━━━━━━━━━━━━━━━━━━━━━━\u001b[0m \u001b[32m232.6/232.6 kB\u001b[0m \u001b[31m2.7 MB/s\u001b[0m eta \u001b[36m0:00:00\u001b[0m\n",
            "\u001b[?25hInstalling collected packages: pypdf2\n",
            "Successfully installed pypdf2-3.0.1\n",
            "Collecting docx2txt\n",
            "  Downloading docx2txt-0.8.tar.gz (2.8 kB)\n",
            "  Preparing metadata (setup.py) ... \u001b[?25l\u001b[?25hdone\n",
            "Building wheels for collected packages: docx2txt\n",
            "  Building wheel for docx2txt (setup.py) ... \u001b[?25l\u001b[?25hdone\n",
            "  Created wheel for docx2txt: filename=docx2txt-0.8-py3-none-any.whl size=3957 sha256=a30b885e0d39bb0a852219bc6e93c917fad95122b1761330388201b29827fb6a\n",
            "  Stored in directory: /root/.cache/pip/wheels/22/58/cf/093d0a6c3ecfdfc5f6ddd5524043b88e59a9a199cb02352966\n",
            "Successfully built docx2txt\n",
            "Installing collected packages: docx2txt\n",
            "Successfully installed docx2txt-0.8\n"
          ]
        }
      ]
    },
    {
      "cell_type": "code",
      "execution_count": 31,
      "metadata": {
        "id": "HwizEe8YJrvZ"
      },
      "outputs": [],
      "source": [
        "import os\n",
        "import docx2txt\n",
        "from PyPDF2 import PdfReader\n",
        "\n",
        "class Convert2Text:\n",
        "    def __init__(self, file_path):\n",
        "        self.file_path = file_path\n",
        "\n",
        "    def check_file_extension(self):\n",
        "        _, file_extension = os.path.splitext(self.file_path)\n",
        "        return file_extension.lower()\n",
        "\n",
        "    def convert_to_text(self):\n",
        "        file_extension = self.check_file_extension()\n",
        "        if file_extension == '.pdf':\n",
        "            return self.pdftotext(self.file_path)\n",
        "        elif file_extension == '.docx':\n",
        "            return self.doctotext(self.file_path)\n",
        "        else:\n",
        "            raise ValueError(f\"Unsupported file format: {file_extension}. Only .pdf and .docx files are supported.\")\n",
        "\n",
        "    def doctotext(self, m):\n",
        "        temp = docx2txt.process(m)\n",
        "        resume_text = [line.replace('\\t', ' ') for line in temp.split('\\n') if line]\n",
        "        text = ' '.join(resume_text)\n",
        "        return text\n",
        "\n",
        "    def pdftotext(self, m):\n",
        "        pdfFileObj = open(m, 'rb')\n",
        "        pdfFileReader = PdfReader(pdfFileObj)\n",
        "        num_pages = len(pdfFileReader.pages)\n",
        "        currentPageNumber = 0\n",
        "        text = ''\n",
        "        while currentPageNumber < num_pages:\n",
        "            pdfPage = pdfFileReader.pages[currentPageNumber]\n",
        "            text = text + pdfPage.extract_text()\n",
        "            currentPageNumber += 1\n",
        "        pdfFileObj.close()\n",
        "        return text\n"
      ]
    },
    {
      "cell_type": "code",
      "source": [
        "converter = Convert2Text('/content/drive/MyDrive/datasets/Abiral_Pandey_Fullstack_Java.docx')\n",
        "text =converter.convert_to_text()\n",
        "print(text)"
      ],
      "metadata": {
        "colab": {
          "base_uri": "https://localhost:8080/"
        },
        "id": "APz0l8kad3OW",
        "outputId": "25f677a7-1a2f-4ec9-d290-135c213c2445"
      },
      "execution_count": 91,
      "outputs": [
        {
          "output_type": "stream",
          "name": "stdout",
          "text": [
            "Name: Abiral Pandey Email: abiral.pandey88@gmail.com Phone: 940-242-3303 Current Location: Woonsocket, Rhode Island Visa Status: US Citizen SUMMARY: Dynamic individual with 6 years of software development experience in design, development, deployment, maintenance, production and support of web - based and Client-Server business applications using OOP and Java/J2EE technologies. Exposure to all phases of Software Development Life Cycle(SDLC) using Agile, RUP, Waterfall. Designed and developed web UI screen using Angular-JS. Developed AngularJS Controllers, Services, filters and directives for various modules in the application. Knowledge on ETL tools like Kettle Pentaho and Microsoft SSIS tools. Created custom directives, decorators and services using AngularJS to interface with both RESTful and legacy network services also DOM applications. Experience with MVC frameworks like Struts, SPRING and ORM tools like Hibernate. Experienced in working with batch jobs using Spring-Batch, Autosys and Quartz. Worked extensively with XML related technologies like XML/XSLT to process, validate, parse and extract data from XML using DOM and SAX parsers for DTD and SCHEMAand also worked with JAX-B. Strong experience in J2EE technologies like Java Beans, Servlets, JSP (including custom tags), JSTL, JDBC, Struts, Spring, JMS, JNDI and Multithreading. Expertise in web development technologies like HTML, DHTML, XHTML, CSS, Java Script, JQuery, JSF, AJAX, Bootstrap JS, Node JS and Angular JS. Experienced in RESTful web services using JAX-RS, Jersey framework and SOAP using JAX-WS, Axis-2 framework. Expert knowledge over J2EE Design Patterns like MVC, Adapter, Front End Controller, Value object, Singleton, Session Facade, Business Delegate, Factory DAO in designing the architecture of large applications. Experience in using Maven and Ant build scripts for the project build automation. Experience in using version control and configuration management tools like SVN, Clear Case and CVS. Expertise in working with various Application Servers such as IBM WebSphere, JBoss, Glassfish, Oracle WebLogic and Apache Tomcat server. Good knowledge in using IDE’s such as Eclipse, NetBeans, JBuilder, RAD and STS. Expertise in working with Relational databases such as Oracle, PostgreSQL, DB2, MySQL and NoSQL database MongoDB. Experience in database design using PL/SQL to write Stored Procedures, Functions, Triggers, views and good at writing complex queries for Oracle 10g/11g. Good experience in developing test cases with JUnit for Unit testing, Load testing and logging using Log4J. Experienced in using Operating Systems like Windows 98 / 2000 / NT / XP, AIX, Sun Solaris. Proficient in software documentation and technical report writing. Involved in Performance analysis and improvements of the application using tools like Jmeter and using commands on Unix box to resolve deadlocks and improve performance. TECHNICAL SKILLS: Programming Languages: Java/J2EE, PL/SQL, Unix Shell Scripts Java/J2EE Technologies: JavaBeans, collections, Servlets, JSP, JDBC, JNDI, RMI, EJB Frameworks: Struts 1.x/2.x, Spring 2.5/3.0, Web Framework, JSF, Hibernate, iBatis, JPA, Axis-2, Jersey Methodologies/Design Patterns: OOAD, OOP, UML, MVC, Singleton, DTO Pattern, DAO Pattern, Service Fa ade, Factory Pattern Build Automation: Jenkins, Maven, Ant Application/Web Servers: IBM Web Sphere 6.x/5.x, BEA Web Logic 8.1/9.1, Apache Tomcat 5.x/6.x, JBOSS 4.x/3.x XML processing: DTD, Schema, JAX-P (DOM, SAX), JAX-B Web Services: RESTful, SOAP Web Development: HTML, DHTML, XHTML, CSS, Java Script, JQuery, AJAX, LADP, JSF, Bootstrap JS, Node JS, Angular JS Version Control Tools: CVS, Harvest, IBM Clear case, SVN and GIT Databases: Oracle 9i/10g/11g, IBM DB2, SQL Server 2005/2008, PostgreSQL, MySQL, MangoDB Messaging Techologies: JMS, IBM MQ IDE s: Eclipse, NetBeans, RAD, WSAD Testing and Logging Frameworks: Junit, Log4j, Mockito, Finesse Tests Reporting Tools: Crystal Reports 11, Jasper Reports Tools: Rational Rose, MS Visio, XML Spy, TOAD Operating Systems: Windows 98/2000/NT/XP, AIX, Sun Solaris, HP-UX PROFESSIONAL EXPERIENCE: CVS, Woonsocket, Rhode Island                                 Full Stack Java Developer April 2016 – Present Responsibilities: Involved in various stages of Software Development Life Cycle (SDLC) deliverables of the project using the Agile methodology. Used AWS Cloud platform and its features which include EBS, AMI, SNS, RDS, EBS, Cloud Watch, Cloud Trail, Cloud Formation, Cloud Front, S3, and Route53.  Expertise in building rich, interactive user interfaces using HTML, CSS, JavaScript, jQuery, Node.Js and Angular.Js. Gathered and clarified requirements with business analyst to feed into high-level customization design, development and installation phases. Used Spring Framework for dependency injection for Action classes using Application Context XML file.  Involved in implementation of MVC pattern using JSP and Spring Controller. Developed business objects using Spring IOC, Spring MVC and Spring AOP. Implemented MVC architecture using JSP Spring, Hibernate and used Spring Framework to initialize managed beans and services. Implemented SOA architecture with Web Services using SOAP, JAX-WS, WSDL, UDDI and XML. Used Collections for Model classes in the DAO layer (Data Access Object) Involved in modifying some changes in DAO layer using Hibernate. Created mappings among the relations and written SQL queries using Hibernate. Implemented Concurrency, Exception Handling and Collections whenever necessary. Used Entity Beans to persist the data into IBM DB2 database like database access components, Creating Schemas and Tables. Used SQL to perform data mapping and backend testing, also documented all the SQL queries for future testing purpose. Created process flow for deploying application in Web Sphere application server. Managed build, reporting and documentation from the project information using Jenkins, Maven Tool and SVN for version control. Used Jenkins for Continuous Integration. Used JUnit for testing and used JIRA for tracking bugs. Responsible for the dealing with the problem, bug fixing and troubleshooting.  Environment: Java, J2EE, HTML, CSS, JavaScript, jQuery, Ajax, Spring, Spring IOC, Spring AOP, Spring MVC, Hibernate, REST, SOAP, XML, Eclipse, PL/SQL, JUnit, Maven Build Tool, DB2, JIRA, Jenkins, SVN and IBM Web Sphere, AngularJS, EBS, AMI, SNS, RDS, Cloud Watch, Cloud Trail, Cloud Formation, Auto scaling Toll Brothers, Horsham Township, Pennsylvania                  Software Engineer December 2015 -  March 2016 Responsibilities: Developed JSP and extensively used tag libraries.  Designed the system with OOAD methodology using various design patterns like factory method, Singleton, Adaptor, Template etc.  Implementing and planning the server-side architecture using Spring and Hibernate  Configured the spring framework for entire business logic layer with XML bean configuration files.  Preparation of Low Level Designing and High Level Designing and relevant documentation.  Extensively used Spring IOC for Dependency Injection and worked on Custom MVC Frameworks loosely based on Struts  experienced in build tools like Micro services, Ant, Maven and Gradle tools. Wrote Controller classes in Spring MVC framework in the web layer.  Produced the shopping cart on the client Front-end using jQuery, JavaScript, HTML5, CSS3.  Extensively used Eclipse based STS IDE for building, developing and integrating the application.  Used Table per hierarchy inheritance of hibernates and mapped polymorphic associations.  Developed one-much, many-one, one-one annotation based mappings in Hibernate.  Wrote queries Using Cassandra CQL to create, alter, insert and delete elements.  Developed DAO service methods to populate the domain model objects using hibernate.  Used java collections API extensively such as Lists, Sets and Maps.   Wrote DAO classes using spring and Hibernate to interact with database for persistence.  Developed components of web services (JAX-WS, JAX-RPC) end to end, using different JAX-WS standards with clear understanding on WSDL, SOAP using various message patterns   Performed on e-Commerce by using JSF framework and JavaScript, jQuery, HTML5 pages Wrote and tested Java Beans to retrieve trading data and subscriber's information from MySQL database server,  Extensive experience in Angular.JS for application implementation, proficient in creating modules, controllers, route-Providers, factory services, ng-repeat, customizable filter, http get/post methods and directives to realize functionalities like REST service with Ajax call , input validations, searchable and sortable contents.   Implemented Unit and Integration test cases with JUnit Framework based on Functional Flow.  Used tools like My Eclipse IDE, configured and deployed the applications onto Web Logic application server  Configured Log4j for logging and debugging   Environment: Eclipse, Java J2EE, HTML, JSP, JAX RPC, JAXB, CSS3, JavaScript, and jQuery, Spring MVC, Hibernate, RESTful web services, Apache Tomcat7.0, Cucumber, Cassandra, Junit, Jenkins, Maven, GitHub, XML, Log4j, EJB, MySQL, Ajax. Dairy Farmers of America, Kansas City, Missouri                      Java Developer November 2014 – December 2015 Responsibilities: Responsible for developing use cases, class and sequence diagram for the modules using UML and Rational Rose. Identifying and design of common interfaces across multiple systems or modules of social insurance. Developed the application using Spring Framework that leverages classical Model View Layer (MVC) architecture. UML diagrams like use cases, class diagrams, interaction diagrams (sequence and collaboration) and activity diagrams were used. Developed J2EE modules using XMI and CORE JAVA. Interaction with Business users for user and system acceptance testing. Validated the data against the business rules. Data access layer is implemented using Hibernate. Used Apache POI to generate Excel documents Implemented Struts action classes. Used Spring Security for Authentication and authorization extensively. Utilized Eclipse to create JSPs/Servlets/Hibernate that pulled information from a Oracle database and sent to a front end GUI for end users. Used JDBC for Oracle database connection and written number of stored procedures for retrieving the data. Developed modules for validating the data according to business rules and used Castor to convert data into array of XML strings and XSLT for transformation. Used Hibernate for data persistence. Developed SOAP based HTTP requests for communicating with Web Services. Was involved in the design of multi-tier architecture using EJB, Servlets and JSP. Used Spring Dependency Injection properties to provide loose-coupling between layers. Collaborated with Web designers to create the JSP pages, applying HTML, JavaScript, JQuery and Struts Tags. Extensively worked on debugging using Logging Frameworks such as Apache Log4j. Created test plans for unit testing to validate component functionality. Environment: Java 1.4.2, J2EE, Servlets, MVC, Web services, Struts, Spring - Core, MVC, Security, Eclipse, Hibernate, XML, XSLT, EJB, JSP, JDBC, JAX-B, JQuery, JavaScript, HTML, Log4j, Oracle 10g, Apache POI, Caster, XMI. Bank of Utah, Ogden, Utah                                                           J2EE Developer May 2013 – October 2014 Responsibilities: Designed and developed Servlets and JSP, which presents the end user with form to submit the details of the problem. Created SQL statements and triggers for the effective retrieval and storage of data from the database. Performed JUnit testing, proposed and implemented performance enhancements, worked with Oracle databases, running SQL scripts and stored procedures. Developed Restful based Web Services. Was involved in the design of multi-tier architecture using EJB, Servlets and JSP. Developed Servlets used to store user information in the database, which makes a JDBC-ODBC connection to the database and inserts the details into to the database. Designed and developed a Servlet, which presents the engineer a form to submit solution to particular problem. Setting up test environments and configuring various components of the application using JDBC API to establish a connection with oracle database and configuring. Designed and developed a Servlet, which allows the end user to query on the problem, makes a JDBC-ODBC connection to the database and retrieve the details regarding the call number and the status of the submitted problem. Environment: Java, J2EE, Servlets, JSP, EJB, Custom tags, JDBC, JUNIT, Restful, Data Source, DAO, VO Patterns, Tomcat 5.0, SQL, Oracle 9i, Linux. Epsilon, Irving, Texas                                                         Junior Java Developer January 2012 – April 2013 Responsibilities: Designed the user interfaces using JSP. Developed Custom tags, JSTL to support custom User Interfaces. Developed the application using Struts (MVC) Framework. Implemented Business processes such as user authentication, Account Transfer using Session EJBs. Used Eclipse to writing the code for JSP, Servlets, Struts and EJBs. Deployed the applications on Web Logic Application Server. Used Java Messaging Services (JMS) and Backend messaging for reliable and asynchronous exchange of important information such as payment status report. Developed the Ant scripts for preparing WAR files used to deploy J2EE components. Used JDBC for database connectivity to Oracle. Worked with Oracle Database to create tables, procedures, functions and select statements. Used JUnit Testing, debugging and bug fixing. Used Log4J to capture the log that includes runtime exceptions and developed WAR framework to alert the client and production support in case of application failures. Worked in Rational Unified Process (RUP) Methodology. Environment: Java, J2EE, JSP, JSTL, JDBC, Struts, EJB, JMS, Oracle, HTML, XML, Web Logic, Ant, CVS, Log4J, JUnit, JMS, PL/SQL, JavaScript, Eclipse IDE, UNIX Shell Scripting, Rational Unified Process (RUP). Education:  Bachelor of Computer Science – University of North Texas, Denton, Texas\n"
          ]
        }
      ]
    },
    {
      "cell_type": "code",
      "source": [
        "converter = Convert2Text('/content/drive/MyDrive/Resume/Haadi Resume.pdf')\n",
        "text = converter.convert_to_text()\n",
        "print(text)"
      ],
      "metadata": {
        "colab": {
          "base_uri": "https://localhost:8080/"
        },
        "id": "Vg1ZwivTgdig",
        "outputId": "c807fbf9-c035-43f6-9b77-15935c20a3bb"
      },
      "execution_count": 83,
      "outputs": [
        {
          "output_type": "stream",
          "name": "stdout",
          "text": [
            "PythonHAADI RAKHANGI\n",
            "ARTIFICIAL INTELLIGENCE & MACHINE\n",
            "LEARNING STUDENT\n",
            "(2ND YEAR)\n",
            "Contact\n",
            " Programming Skills+91 9820036273\n",
            "haadirakhangi@gmail.com\n",
            "103, Anas Mansion, \n",
            "Nr. Holy Cross School,\n",
            "K'Villa,\n",
            "Thane(W)- 400 601\n",
            "Pandas\n",
            "Machine Learning\n",
            "Java\n",
            "JavascriptAbout Me\n",
            "ProjectsI am a highly motivated and dedicated AI Machine\n",
            "Learning Student with a passion for utilizing data\n",
            "and algorithms to solve real-world problems. My\n",
            "curiosity drives me to continuously learn and\n",
            "improve my skills in this rapidly evolving field. I am a\n",
            "hard worker who consistently strives to deliver high-\n",
            "quality results and exceed expectations.\n",
            "Technologies used: Arduino UNO and IoTLine Follower Robot\n",
            "Basic robot designed to play games like soccer.Soccer Robot\n",
            "Certifications\n",
            "The Complete AutoCAD 2018-21 \n",
            "Fusion 360\n",
            "TechnoVanza robot Workshop\n",
            "SIES Arduino Workshop\n",
            "CSS\n",
            "HTML\n",
            "Bootstrap\n",
            "MySql\n",
            "TensorFlow\n",
            "AutoCAD\n",
            "Fusion360Education\n",
            "B.Tech in Artificial Intelligence and Machine\n",
            "LearningSVKM'S Dwarkadas J. Sanghvi College of\n",
            "Engineering (2022 = present)\n",
            "https://www.linkedin.com/in/haadi-rakhangi-\n",
            "412201269/\n",
            "Error 404 Hackathon\n",
            "Participated in a Error 404, a 24hr offline hackathon held at M.H\n",
            "saboo Siddik on 18th March.\n",
            "CDiploma in Mechanical EngineeringVeermata Jijabai Technological Institute\n",
            "       (2019 - 2022)92.21%\n",
            "Shreerang Vidyalaya  & Jr. college of\n",
            "Science & Commerce (2019)\n",
            "SSC94.40%\n",
            "Slidester- Presentation using NLP (ongoing)\n",
            "Real-time powerpoint presentation using natural language\n",
            "processing\n",
            "SmartHire - ML algorithm to find the best resume\n",
            "Basic Machine learning algorithm which assigns a Job\n",
            "Relevance Score (JRS) to a resume\n",
            "Competitions\n",
            "Codeshastra 9.0\n",
            "Participated in the 9th edition of DJCSI's codeshastra held at D.J\n",
            "Sanghvi College of Engineering\n"
          ]
        }
      ]
    },
    {
      "cell_type": "markdown",
      "source": [
        "## Extracting skills"
      ],
      "metadata": {
        "id": "fX7n16c7MXvh"
      }
    },
    {
      "cell_type": "code",
      "source": [
        "import spacy\n",
        "nlp_model = spacy.load('en_core_web_sm')\n",
        "doc = nlp_model(\"The website is abc.com.\")\n",
        "chunks = list(doc.noun_chunks)\n",
        "print(chunks[0].text)"
      ],
      "metadata": {
        "colab": {
          "base_uri": "https://localhost:8080/"
        },
        "id": "b4JfuMpYMbkA",
        "outputId": "ab36a5fa-da4f-43b7-b8bf-6a7bc390bc8f"
      },
      "execution_count": 35,
      "outputs": [
        {
          "output_type": "stream",
          "name": "stdout",
          "text": [
            "The website\n"
          ]
        }
      ]
    },
    {
      "cell_type": "code",
      "source": [
        "import pandas as pd\n",
        "\n",
        "def extract_skills(resume_text):\n",
        "    nlp_text = nlp_model(resume_text)\n",
        "\n",
        "    # removing stop words and implementing word tokenization\n",
        "    tokens = [token.text for token in nlp_text if not token.is_stop]\n",
        "    skills = pd.read_csv('/content/drive/MyDrive/datasets/skills.csv', dtype = 'str')\n",
        "    skills.SKILLS.dropna(inplace=True)\n",
        "    skills_list = skills.SKILLS.tolist()\n",
        "    skillset = []\n",
        "\n",
        "    # check for one-grams (example: python)\n",
        "    for token in tokens:\n",
        "        if token.lower() in skills_list:\n",
        "            skillset.append(token)\n",
        "\n",
        "    for token in nlp_text.noun_chunks:\n",
        "        token = token.text.lower().strip()\n",
        "        if token in skills_list:\n",
        "            skillset.append(token)\n",
        "    return [i.capitalize() for i in set([i.lower() for i in skillset])]\n",
        "\n",
        "print ('Skills',extract_skills(text))"
      ],
      "metadata": {
        "colab": {
          "base_uri": "https://localhost:8080/"
        },
        "id": "S6F7Lrm0g00X",
        "outputId": "92c57404-a4b7-4f95-caf4-a70ef390fc3c"
      },
      "execution_count": 94,
      "outputs": [
        {
          "output_type": "stream",
          "name": "stdout",
          "text": [
            "Skills ['Databases', 'Design', 'Test', 'Preparation', 'Relations', 'Epsilon', 'Ibm', 'Aix', 'Reports', 'Create', 'Dom', 'Backend', 'Shell', 'Rest', 'Integration', 'Weblogic', 'Files', 'Oop', 'Spring', 'Use', 'Sequence', 'Dealing', 'Cvs', 'Building', 'Jms', 'Current', 'Struts', 'Sdlc', 'Sts', 'Cassandra', 'Layer', '2012', 'Xslt', 'Batch jobs', 'Ooad', 'Business rules', 'Life', 'Multithreading', 'Installation', 'Fa', 'Jsf', 'Dhtml', 'Platform', 'Commerce', 'Generate', 'Ejb', 'Messaging', 'Soap', 'Hibernate', 'Computer science', 'Trading', 'Authorization', 'Gradle', 'Tables', 'Node js', 'Soa', 'Components', 'Business', 'Interface', 'Crystal reports', 'Angularjs', 'Validate', 'Database', 'End', 'Cucumber', 'Written', 'Automation', '.', 'Mvc', 'Working', 'Visa', 'Web', 'Jira', 'Angular js', 'Functions', 'Auto', 'Applications', 'Education', 'Security', 'Post', 'Logic', 'Documentation', 'Github', 'Network', 'Tool', 'Languages', 'Core', 'Science', 'Phone', 'Mq', 'Jboss', 'Social', 'Pl', 'Jbuilder', 'Implementing', 'Application', 'Understanding', 'Setting', 'Project', 'Troubleshooting', 'Web services', 'Unix shell scripting', 'Sql', 'Information', 'Environment', 'Factory', 'Computer', 'Level', 'Filters', 'J2ee', 'Nosql', 'Methodology', 'Agile', 'Unified', 'Source', 'Functional', 'Use cases', 'Case', 'Postgresql', 'Websphere', 'Bachelor', 'Unit', 'Template', 'Autosys', 'Management', 'Bootstrap', 'Account', 'Servers', 'Jsp', 'Mongodb', 'Jenkins', 'Apache', 'Analyst', 'Maven', 'Odbc', 'Frameworks', 'Business analyst', 'Processing', 'Exchange', 'Scripting', 'Dtd', 'Queries', 'Connectivity', 'Cloud', 'Junit', 'Knowledge', 'Angular', 'Testing', 'Pages', 'Service', 'Ms', 'Pl/sql', 'Git', 'Maintenance', 'Developer', 'Css3', 'Screen', 'Triggers', 'Interactive', 'Collections', 'Xhtml', 'Configuration', 'Db2', 'Engineer', 'System', 'Waterfall', 'Api', 'Build', 'Support', 'Unix', 'Extract', 'Transformation', 'Control', 'View', 'Flow', 'Programming', 'Schema', 'Expert', 'Model', 'Complex queries', 'Html5', 'Running', 'Server', 'Stored procedures', 'Insurance', '10', 'Experience', 'Patterns', 'Storage', 'Development', 'Dynamic', 'Toad', 'Enhancements', 'Skills', 'Collaboration', 'Test cases', 'Process', 'Technical skills', 'Ioc', 'Technical', 'Unit testing', 'Tests', 'Deployment', 'Implementation', 'Code', 'Ide', 'Write', 'Services', 'Software', 'Spring mvc', 'Submit', 'Message', 'Controller', 'Methods', 'Systems', 'Method', 'Micro', 'Standards', 'Linux', 'Jquery', 'Html', 'Uml', 'Hp', 'Clear case', 'Javascript', 'Planning', 'Java', 'Custom', 'Javabeans', 'Experienced', 'Reporting', 'Programming languages', 'Ui', 'Procedures', 'Adapter', 'Aws', 'Spring framework', 'Solaris', 'Libraries', 'Analysis', 'Java script', 'Servlets', 'Domain', 'Performance analysis', 'Http', 'Shopping', 'Jersey', 'Architecture', 'Writing', 'Jmeter', 'Windows', 'Performance', 'Interfaces', 'Requirements', 'Solution', 'Eclipse', 'Configuring', 'Developing', 'Database design', 'Framework', 'Production', 'Good', 'Microsoft', 'Mysql', 'Strong', 'Tomcat', 'Jdbc', 'Responsible', 'Designing', 'Js', 'Client', 'Crystal', 'Ibatis', 'User', 'E', 'Excel', 'Oracle', 'Cases', 'Debugging', 'Tools', 'Uddi', 'Access', 'Report', 'Professional', 'Orm', 'Concurrency', 'Modules', 'Tested', 'Ssis', 'Production support', 'Servlet', 'Dairy', 'Deploy', 'Transfer', 'Bank', 'Authentication', 'Ajax', 'Email', 'Complex', 'Gui', 'Views', 'S3', 'Etl', 'Css', 'Xml', 'Diagrams', 'Jobs', 'Jax-rs', 'Tracking', 'Handling', 'Documents', 'Data', 'Mapping', 'Restful', 'Ebs', 'Ux', 'Customization']\n"
          ]
        }
      ]
    },
    {
      "cell_type": "markdown",
      "source": [
        "## Extracting qualifications"
      ],
      "metadata": {
        "id": "J6n5fBOSR53x"
      }
    },
    {
      "cell_type": "code",
      "source": [
        "import nltk\n",
        "nltk.download('stopwords')"
      ],
      "metadata": {
        "colab": {
          "base_uri": "https://localhost:8080/"
        },
        "id": "bDPC9xV5Sau5",
        "outputId": "164142d6-c088-4c68-d454-4be489252bd7"
      },
      "execution_count": 85,
      "outputs": [
        {
          "output_type": "stream",
          "name": "stderr",
          "text": [
            "[nltk_data] Downloading package stopwords to /root/nltk_data...\n",
            "[nltk_data]   Package stopwords is already up-to-date!\n"
          ]
        },
        {
          "output_type": "execute_result",
          "data": {
            "text/plain": [
              "True"
            ]
          },
          "metadata": {},
          "execution_count": 85
        }
      ]
    },
    {
      "cell_type": "code",
      "source": [
        "import re\n",
        "from nltk.corpus import stopwords\n",
        "\n",
        "\n",
        "# Grad all general stop words\n",
        "STOPWORDS = set(stopwords.words('english'))\n",
        "\n",
        "# Education Degrees\n",
        "EDUCATION = [\n",
        "            'BE','B.E.', 'B.E', 'BS', 'B.S',\n",
        "            'ME', 'M.E', 'M.E.', 'M.B.A', 'MBA', 'MS', 'M.S',\n",
        "            'BTECH', 'B.TECH', 'M.TECH', 'MTECH',\n",
        "            'SSLC', 'SSC' 'HSC', 'CBSE', 'ICSE', 'X', 'XII'\n",
        "        ]\n",
        "\n",
        "def extract_education(resume_text):\n",
        "    nlp_text = nlp_model(resume_text)\n",
        "    nlp_text = [sent.text.strip() for sent in nlp_text.sents]\n",
        "\n",
        "    edu = {}\n",
        "    for index, text in enumerate(nlp_text):\n",
        "        for tex in text.split():\n",
        "            tex = re.sub(r'[?|$|.|!|,]', r'', tex)\n",
        "            if tex.upper() in EDUCATION and tex not in STOPWORDS:\n",
        "                edu[tex] = text + nlp_text[index + 1]\n",
        "\n",
        "    # Extract year\n",
        "    education = []\n",
        "    for key in edu.keys():\n",
        "        year = re.search(re.compile(r'(((20|19)(\\d{})))'), edu[key])\n",
        "        if year:\n",
        "            education.append((key, ''.join(year[0])))\n",
        "        else:\n",
        "            education.append(key)\n",
        "    return education\n",
        "print('Qualification: ',extract_education(text))"
      ],
      "metadata": {
        "colab": {
          "base_uri": "https://localhost:8080/"
        },
        "id": "RxOMLUGkMdTV",
        "outputId": "fd4cc6bc-0935-45c1-9b54-55250a663007"
      },
      "execution_count": 93,
      "outputs": [
        {
          "output_type": "stream",
          "name": "stdout",
          "text": [
            "Qualification:  ['MS']\n"
          ]
        }
      ]
    },
    {
      "cell_type": "markdown",
      "source": [
        "## Extracting names"
      ],
      "metadata": {
        "id": "2HsLDKaYxByS"
      }
    },
    {
      "cell_type": "code",
      "source": [
        "import spacy\n",
        "import en_core_web_sm\n",
        "from spacy.matcher import Matcher\n",
        "\n",
        "# load pre-trained model\n",
        "nlp = en_core_web_sm.load()\n",
        "\n",
        "# initialize matcher with a vocab\n",
        "matcher = Matcher(nlp.vocab)\n",
        "\n",
        "\n",
        "def extract_name(resume_text):\n",
        "    nlp_text = nlp(resume_text)\n",
        "\n",
        "    # First name and Last name are always Proper Nouns\n",
        "    pattern = [{'POS': 'PROPN'}, {'POS': 'PROPN'}]\n",
        "\n",
        "    matcher.add('NAME', [pattern])\n",
        "\n",
        "    matches = matcher(nlp_text)\n",
        "\n",
        "    for match_id, start, end in matches:\n",
        "        span = nlp_text[start:end]\n",
        "        return span.text\n",
        "print('Name: ',extract_name(text))"
      ],
      "metadata": {
        "colab": {
          "base_uri": "https://localhost:8080/"
        },
        "id": "iJ6lGRgixBTE",
        "outputId": "8d717cb3-8ab0-48f5-f610-cd3f66ce0ab5"
      },
      "execution_count": 92,
      "outputs": [
        {
          "output_type": "stream",
          "name": "stdout",
          "text": [
            "Name:  Abiral Pandey\n"
          ]
        }
      ]
    },
    {
      "cell_type": "markdown",
      "source": [
        "## EXTRACTING EMAIL"
      ],
      "metadata": {
        "id": "lqEFp3SsyNoj"
      }
    },
    {
      "cell_type": "code",
      "source": [
        "def extract_email_addresses(string):\n",
        "    r = re.compile(r'[\\w\\.-]+@[\\w\\.-]+')\n",
        "    return r.findall(string)\n",
        "print('Mail id: ',extract_email_addresses(text))"
      ],
      "metadata": {
        "colab": {
          "base_uri": "https://localhost:8080/"
        },
        "id": "niZDXNETSPos",
        "outputId": "1e087f7a-1737-4210-aa54-92c9bf85abda"
      },
      "execution_count": 96,
      "outputs": [
        {
          "output_type": "stream",
          "name": "stdout",
          "text": [
            "Mail id:  ['abiral.pandey88@gmail.com']\n"
          ]
        }
      ]
    },
    {
      "cell_type": "markdown",
      "source": [
        "## EXTRACTING MOBILE NUMBER"
      ],
      "metadata": {
        "id": "xyohv66RyY4B"
      }
    },
    {
      "cell_type": "code",
      "source": [
        "def extract_mobile_number(resume_text):\n",
        "    phone = re.findall(re.compile(r'(?:(?:\\+?([1-9]|[0-9][0-9]|[0-9][0-9][0-9])\\s*(?:[.-]\\s*)?)?(?:\\(\\s*([2-9]1[02-9]|[2-9][02-8]1|[2-9][02-8][02-9])\\s*\\)|([0-9][1-9]|[0-9]1[02-9]|[2-9][02-8]1|[2-9][02-8][02-9]))\\s*(?:[.-]\\s*)?)?([2-9]1[02-9]|[2-9][02-9]1|[2-9][02-9]{2})\\s*(?:[.-]\\s*)?([0-9]{4})(?:\\s*(?:#|x\\.?|ext\\.?|extension)\\s*(\\d+))?'), resume_text)\n",
        "\n",
        "    if phone:\n",
        "        number = ''.join(phone[0])\n",
        "        if len(number) > 10:\n",
        "            return number\n",
        "        else:\n",
        "            return number\n",
        "print('Mobile Number: ',extract_mobile_number(text))"
      ],
      "metadata": {
        "colab": {
          "base_uri": "https://localhost:8080/"
        },
        "id": "ksu7r4hcyb2S",
        "outputId": "ddc6ec75-3223-4a54-ea1f-57b600fe0608"
      },
      "execution_count": 97,
      "outputs": [
        {
          "output_type": "stream",
          "name": "stdout",
          "text": [
            "Mobile Number:  9402423303\n"
          ]
        }
      ]
    },
    {
      "cell_type": "code",
      "source": [],
      "metadata": {
        "id": "hZhOBgz_ydft"
      },
      "execution_count": null,
      "outputs": []
    }
  ]
}